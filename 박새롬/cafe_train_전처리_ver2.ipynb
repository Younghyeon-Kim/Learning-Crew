{
  "nbformat": 4,
  "nbformat_minor": 0,
  "metadata": {
    "colab": {
      "name": "카페_전처리.ipynb",
      "provenance": [],
      "collapsed_sections": []
    },
    "kernelspec": {
      "name": "python3",
      "display_name": "Python 3"
    },
    "language_info": {
      "name": "python"
    }
  },
  "cells": [
    {
      "cell_type": "code",
      "execution_count": null,
      "metadata": {
        "id": "r3mGL2BR1YTw"
      },
      "outputs": [],
      "source": [
        "import pandas as pd"
      ]
    },
    {
      "cell_type": "code",
      "source": [
        "cafe_data = pd.read_csv('/content/drive/MyDrive/미니 프로젝트/data/카페_train.csv')"
      ],
      "metadata": {
        "id": "2Xv7Fuat1hqs"
      },
      "execution_count": null,
      "outputs": []
    },
    {
      "cell_type": "code",
      "source": [
        "df = cafe_data.dropna(axis=1)\n",
        "df.head()"
      ],
      "metadata": {
        "colab": {
          "base_uri": "https://localhost:8080/",
          "height": 354
        },
        "id": "FCGXUyB31wQj",
        "outputId": "efcafeb3-914f-47eb-eced-3dcf67f18479"
      },
      "execution_count": null,
      "outputs": [
        {
          "output_type": "execute_result",
          "data": {
            "text/plain": [
              "   IDX 발화자                                  발화문 카테고리   QA번호 QA여부 감성       인텐트  \\\n",
              "0    1   s                  고객님 혹시 무슨 문제 있으신가요?   카페      5    q  m  제품_불량_질문   \n",
              "1    2   c                               네 이상해요   카페      5    a  m  제품_불량_질문   \n",
              "2    3   c  빙수 위에 뿌려진 과일에서 쉰 냄새가 나는데 어떻게 하면 되죠?   카페  20591    q  n  제품_불량_질문   \n",
              "3    4   s      죄송합니다, 폐기처분 하고 새 빙수를 제조해드리겠습니다.   카페  20591    a  m  제품_불량_질문   \n",
              "4    5   c              마카롱 주문했는데 마카롱이 엄청 딱딱해요.   카페  66996    q  n  제품_불량_질문   \n",
              "\n",
              "    상담번호  상담내순번  \n",
              "0   9252      9  \n",
              "1   9252     10  \n",
              "2  20591      1  \n",
              "3  20591      2  \n",
              "4  66996      1  "
            ],
            "text/html": [
              "\n",
              "  <div id=\"df-9fdf7801-d679-4986-b76a-9f1940d3ceef\">\n",
              "    <div class=\"colab-df-container\">\n",
              "      <div>\n",
              "<style scoped>\n",
              "    .dataframe tbody tr th:only-of-type {\n",
              "        vertical-align: middle;\n",
              "    }\n",
              "\n",
              "    .dataframe tbody tr th {\n",
              "        vertical-align: top;\n",
              "    }\n",
              "\n",
              "    .dataframe thead th {\n",
              "        text-align: right;\n",
              "    }\n",
              "</style>\n",
              "<table border=\"1\" class=\"dataframe\">\n",
              "  <thead>\n",
              "    <tr style=\"text-align: right;\">\n",
              "      <th></th>\n",
              "      <th>IDX</th>\n",
              "      <th>발화자</th>\n",
              "      <th>발화문</th>\n",
              "      <th>카테고리</th>\n",
              "      <th>QA번호</th>\n",
              "      <th>QA여부</th>\n",
              "      <th>감성</th>\n",
              "      <th>인텐트</th>\n",
              "      <th>상담번호</th>\n",
              "      <th>상담내순번</th>\n",
              "    </tr>\n",
              "  </thead>\n",
              "  <tbody>\n",
              "    <tr>\n",
              "      <th>0</th>\n",
              "      <td>1</td>\n",
              "      <td>s</td>\n",
              "      <td>고객님 혹시 무슨 문제 있으신가요?</td>\n",
              "      <td>카페</td>\n",
              "      <td>5</td>\n",
              "      <td>q</td>\n",
              "      <td>m</td>\n",
              "      <td>제품_불량_질문</td>\n",
              "      <td>9252</td>\n",
              "      <td>9</td>\n",
              "    </tr>\n",
              "    <tr>\n",
              "      <th>1</th>\n",
              "      <td>2</td>\n",
              "      <td>c</td>\n",
              "      <td>네 이상해요</td>\n",
              "      <td>카페</td>\n",
              "      <td>5</td>\n",
              "      <td>a</td>\n",
              "      <td>m</td>\n",
              "      <td>제품_불량_질문</td>\n",
              "      <td>9252</td>\n",
              "      <td>10</td>\n",
              "    </tr>\n",
              "    <tr>\n",
              "      <th>2</th>\n",
              "      <td>3</td>\n",
              "      <td>c</td>\n",
              "      <td>빙수 위에 뿌려진 과일에서 쉰 냄새가 나는데 어떻게 하면 되죠?</td>\n",
              "      <td>카페</td>\n",
              "      <td>20591</td>\n",
              "      <td>q</td>\n",
              "      <td>n</td>\n",
              "      <td>제품_불량_질문</td>\n",
              "      <td>20591</td>\n",
              "      <td>1</td>\n",
              "    </tr>\n",
              "    <tr>\n",
              "      <th>3</th>\n",
              "      <td>4</td>\n",
              "      <td>s</td>\n",
              "      <td>죄송합니다, 폐기처분 하고 새 빙수를 제조해드리겠습니다.</td>\n",
              "      <td>카페</td>\n",
              "      <td>20591</td>\n",
              "      <td>a</td>\n",
              "      <td>m</td>\n",
              "      <td>제품_불량_질문</td>\n",
              "      <td>20591</td>\n",
              "      <td>2</td>\n",
              "    </tr>\n",
              "    <tr>\n",
              "      <th>4</th>\n",
              "      <td>5</td>\n",
              "      <td>c</td>\n",
              "      <td>마카롱 주문했는데 마카롱이 엄청 딱딱해요.</td>\n",
              "      <td>카페</td>\n",
              "      <td>66996</td>\n",
              "      <td>q</td>\n",
              "      <td>n</td>\n",
              "      <td>제품_불량_질문</td>\n",
              "      <td>66996</td>\n",
              "      <td>1</td>\n",
              "    </tr>\n",
              "  </tbody>\n",
              "</table>\n",
              "</div>\n",
              "      <button class=\"colab-df-convert\" onclick=\"convertToInteractive('df-9fdf7801-d679-4986-b76a-9f1940d3ceef')\"\n",
              "              title=\"Convert this dataframe to an interactive table.\"\n",
              "              style=\"display:none;\">\n",
              "        \n",
              "  <svg xmlns=\"http://www.w3.org/2000/svg\" height=\"24px\"viewBox=\"0 0 24 24\"\n",
              "       width=\"24px\">\n",
              "    <path d=\"M0 0h24v24H0V0z\" fill=\"none\"/>\n",
              "    <path d=\"M18.56 5.44l.94 2.06.94-2.06 2.06-.94-2.06-.94-.94-2.06-.94 2.06-2.06.94zm-11 1L8.5 8.5l.94-2.06 2.06-.94-2.06-.94L8.5 2.5l-.94 2.06-2.06.94zm10 10l.94 2.06.94-2.06 2.06-.94-2.06-.94-.94-2.06-.94 2.06-2.06.94z\"/><path d=\"M17.41 7.96l-1.37-1.37c-.4-.4-.92-.59-1.43-.59-.52 0-1.04.2-1.43.59L10.3 9.45l-7.72 7.72c-.78.78-.78 2.05 0 2.83L4 21.41c.39.39.9.59 1.41.59.51 0 1.02-.2 1.41-.59l7.78-7.78 2.81-2.81c.8-.78.8-2.07 0-2.86zM5.41 20L4 18.59l7.72-7.72 1.47 1.35L5.41 20z\"/>\n",
              "  </svg>\n",
              "      </button>\n",
              "      \n",
              "  <style>\n",
              "    .colab-df-container {\n",
              "      display:flex;\n",
              "      flex-wrap:wrap;\n",
              "      gap: 12px;\n",
              "    }\n",
              "\n",
              "    .colab-df-convert {\n",
              "      background-color: #E8F0FE;\n",
              "      border: none;\n",
              "      border-radius: 50%;\n",
              "      cursor: pointer;\n",
              "      display: none;\n",
              "      fill: #1967D2;\n",
              "      height: 32px;\n",
              "      padding: 0 0 0 0;\n",
              "      width: 32px;\n",
              "    }\n",
              "\n",
              "    .colab-df-convert:hover {\n",
              "      background-color: #E2EBFA;\n",
              "      box-shadow: 0px 1px 2px rgba(60, 64, 67, 0.3), 0px 1px 3px 1px rgba(60, 64, 67, 0.15);\n",
              "      fill: #174EA6;\n",
              "    }\n",
              "\n",
              "    [theme=dark] .colab-df-convert {\n",
              "      background-color: #3B4455;\n",
              "      fill: #D2E3FC;\n",
              "    }\n",
              "\n",
              "    [theme=dark] .colab-df-convert:hover {\n",
              "      background-color: #434B5C;\n",
              "      box-shadow: 0px 1px 3px 1px rgba(0, 0, 0, 0.15);\n",
              "      filter: drop-shadow(0px 1px 2px rgba(0, 0, 0, 0.3));\n",
              "      fill: #FFFFFF;\n",
              "    }\n",
              "  </style>\n",
              "\n",
              "      <script>\n",
              "        const buttonEl =\n",
              "          document.querySelector('#df-9fdf7801-d679-4986-b76a-9f1940d3ceef button.colab-df-convert');\n",
              "        buttonEl.style.display =\n",
              "          google.colab.kernel.accessAllowed ? 'block' : 'none';\n",
              "\n",
              "        async function convertToInteractive(key) {\n",
              "          const element = document.querySelector('#df-9fdf7801-d679-4986-b76a-9f1940d3ceef');\n",
              "          const dataTable =\n",
              "            await google.colab.kernel.invokeFunction('convertToInteractive',\n",
              "                                                     [key], {});\n",
              "          if (!dataTable) return;\n",
              "\n",
              "          const docLinkHtml = 'Like what you see? Visit the ' +\n",
              "            '<a target=\"_blank\" href=https://colab.research.google.com/notebooks/data_table.ipynb>data table notebook</a>'\n",
              "            + ' to learn more about interactive tables.';\n",
              "          element.innerHTML = '';\n",
              "          dataTable['output_type'] = 'display_data';\n",
              "          await google.colab.output.renderOutput(dataTable, element);\n",
              "          const docLink = document.createElement('div');\n",
              "          docLink.innerHTML = docLinkHtml;\n",
              "          element.appendChild(docLink);\n",
              "        }\n",
              "      </script>\n",
              "    </div>\n",
              "  </div>\n",
              "  "
            ]
          },
          "metadata": {},
          "execution_count": 3
        }
      ]
    },
    {
      "cell_type": "code",
      "source": [
        "# 직원이 질문하는 경우 & 소비자가 대답하는 경우 삭제\n",
        "\n",
        "x1 = df[(df['발화자']=='s')&(df['QA여부']=='q')].index\n",
        "x2 = df[(df['발화자']=='c')&(df['QA여부']=='a')].index\n",
        "\n",
        "df = df.drop(x1)\n",
        "df = df.drop(x2)\n",
        "df.reset_index(inplace = True, drop = True)"
      ],
      "metadata": {
        "id": "bNYtKzQw11u7"
      },
      "execution_count": null,
      "outputs": []
    },
    {
      "cell_type": "code",
      "source": [
        "# QA 정렬대로 뽑아오기\n",
        "Q = []\n",
        "A = []\n",
        "label = []\n",
        "\n",
        "for i in df.index:\n",
        "  if df['QA여부'][i] == 'q' and df['QA여부'][i+1] == 'a':\n",
        "    Q.append(df.loc[i]['발화문'])\n",
        "    A.append(df.loc[i+1]['발화문'])\n",
        "    label.append(df.loc[i]['인텐트'])\n",
        "\n",
        "data= pd.DataFrame({'Q':Q,\n",
        "                'A':A,\n",
        "                'label' :label})\n",
        "\n",
        "\n",
        "data"
      ],
      "metadata": {
        "id": "cUmlBvN219gr"
      },
      "execution_count": null,
      "outputs": []
    },
    {
      "cell_type": "code",
      "source": [
        "# 중복 질문 제거\n",
        "# 데이터: 72559 --> 중복 제거 후 데이터: 66041 \n",
        "data.drop_duplicates(['Q'], inplace = True)\n",
        "data.reset_index(inplace = True, drop = True)"
      ],
      "metadata": {
        "id": "qFJZ-I8gReia"
      },
      "execution_count": null,
      "outputs": []
    },
    {
      "cell_type": "code",
      "source": [
        "# -------------------------------------------\n",
        "# label 삭제\n",
        "# 우리 카페에 필요한 데이터만 남기기\n",
        "# -------------------------------------------\n",
        "\n",
        "# 매장, 멤버십, 예약, 웹사이트, AS, 제품_추천, 제품_용도, 비교, 재고, 교환, 제품_가격 삭제\n",
        "del_label = data[data['label'].str.contains('매장|멤버십|예약|웹사이트|AS|제품_추천|제품_용도|비교|재고|교환|제품_가격')].index\n",
        "data = data.drop(del_label)\n",
        "\n",
        "data.reset_index(inplace = True, drop = True)"
      ],
      "metadata": {
        "id": "Ilqu0B-BNkc_"
      },
      "execution_count": null,
      "outputs": []
    },
    {
      "cell_type": "code",
      "source": [
        "# 필요 없는 데이터 제거\n",
        "extra_q = data[data['Q'].str.contains('설빙|베스킨라빈스|스타벅스|나무|단청|도마|그림|파인트|쿼터|패밀리|하프갤런|텀블러')].index\n",
        "data = data.drop(extra_q)\n",
        "\n",
        "extra_a = data[data['A'].str.contains('설빙|베스킨라빈스|스타벅스|나무|단청|도마|그림|파인트|쿼터|패밀리|하프갤런|텀블러')].index\n",
        "data = data.drop(extra_a)\n",
        "\n",
        "data.reset_index(inplace=True, drop=True)"
      ],
      "metadata": {
        "id": "GiUPh-l3iRbj"
      },
      "execution_count": null,
      "outputs": []
    },
    {
      "cell_type": "code",
      "source": [
        "# 날짜 묻는 질문/날짜로 대답하는 답변 제거\n",
        "product_date_q = data[data['Q'].str.contains('1월|2월|3월|4월|5월|6월|7월|8월|9월|10월')].index\n",
        "data = data.drop(product_date_q)\n",
        "\n",
        "product_date_a = data[data['A'].str.contains('1월|2월|3월|4월|5월|6월|7월|8월|9월|10월')].index\n",
        "data = data.drop(product_date_a)\n",
        "\n",
        "data.reset_index(inplace=True, drop=True)"
      ],
      "metadata": {
        "id": "Q1R4Wfk8aL_J"
      },
      "execution_count": null,
      "outputs": []
    },
    {
      "cell_type": "code",
      "source": [
        "# 배달/배송 관련 정보 제거\n",
        "delivery_q = data[data['Q'].str.contains('배달|택배')].index\n",
        "data = data.drop(delivery_q)\n",
        "\n",
        "delivery_a = data[data['A'].str.contains('배달|택배')].index\n",
        "data = data.drop(delivery_a)\n",
        "\n",
        "delivery = data[data['label'].str.contains('배송')].index\n",
        "data = data.drop(delivery)\n",
        "\n",
        "data.reset_index(inplace=True, drop=True)"
      ],
      "metadata": {
        "id": "mqPeO38RX5Qy"
      },
      "execution_count": null,
      "outputs": []
    },
    {
      "cell_type": "code",
      "source": [
        "# 수거 제거\n",
        "waste_q = data[data['Q'].str.contains('수거')].index\n",
        "data = data.drop(waste_q)\n",
        "\n",
        "waste_a = data[data['A'].str.contains('수거')].index\n",
        "data = data.drop(waste_a)\n",
        "\n",
        "data.reset_index(inplace=True, drop=True)"
      ],
      "metadata": {
        "id": "rRGw7rrBv_Pp"
      },
      "execution_count": null,
      "outputs": []
    },
    {
      "cell_type": "code",
      "source": [
        "# 총 얼마예요? 제거\n",
        "total_q = data[data['Q'].str.contains('총 얼마예요?')].index\n",
        "data = data.drop(total_q)\n",
        "\n",
        "data.reset_index(inplace=True, drop=True)"
      ],
      "metadata": {
        "id": "iOjAF6zJYrI7"
      },
      "execution_count": null,
      "outputs": []
    },
    {
      "cell_type": "code",
      "source": [
        "# 품절 제거\n",
        "absence_q = data[data['Q'].str.contains('품절')].index\n",
        "data = data.drop(absence_q)\n",
        "\n",
        "absence_a = data[data['A'].str.contains('품절')].index\n",
        "data = data.drop(absence_a)\n",
        "\n",
        "data.reset_index(inplace=True, drop=True)"
      ],
      "metadata": {
        "id": "OL71uSFDX2cj"
      },
      "execution_count": null,
      "outputs": []
    },
    {
      "cell_type": "code",
      "source": [
        "# 원두 삭제\n",
        "coffee_q = data[data['Q'].str.contains('원두')].index\n",
        "data = data.drop(coffee_q)\n",
        "\n",
        "coffee_a = data[data['A'].str.contains('원두')].index\n",
        "data = data.drop(coffee_a)\n",
        "\n",
        "data.reset_index(inplace=True, drop=True)"
      ],
      "metadata": {
        "id": "h2IBYM5k_Fs6"
      },
      "execution_count": null,
      "outputs": []
    },
    {
      "cell_type": "code",
      "source": [
        "# 재료 변경 불가 안내 문구 학습\n",
        "data.loc[data['Q'].str.contains('빼|교환|바꾸|추가|바꿔|뺄'), 'A'] = '현재 재료 변경은 불가능합니다.'\n",
        "\n",
        "# 디카페인 불가 안내 문구 학습\n",
        "data.loc[data['Q'].str.contains('디카페인|디 카페인'), 'A'] = '현재 디카페인 음료는 제공되지 않습니다.'\n",
        "\n",
        "# 제품 불량 문의 안내 문구 학습\n",
        "data.loc[data['label'].str.contains('제품_불량'), 'A'] = '죄송합니다. 카운터에서 확인 도와드리겠습니다.'\n",
        "\n",
        "# 분할 결제 불가 안내 문구 학습\n",
        "data.loc[data['Q'].str.contains('분할 결제|분할결제|나눠서 결제'), 'A'] = '현재 분할 결제가 불가능합니다. 다른 결제 수단을 선택해주세요.'\n",
        "\n",
        "# 할인 불가 안내 문구 학습\n",
        "data.loc[data['Q'].str.contains('할인|깎|깍'), 'A'] = '현재 할인은 불가합니다.'\n",
        "\n",
        "# 칼로리 정보 불가능 안내 문구 학습\n",
        "data.loc[data['Q'].str.contains('열량|칼로리'), 'A'] = '현재 칼로리 정보는 제공되지 않습니다. 카운터에 문의 바랍니다.'\n",
        "\n",
        "# 행사 안내 문구 학습\n",
        "data.loc[data['Q'].str.contains('행사|이벤트'), 'A'] = '현재 진행중인 행사가 없습니다. 다음 행사를 기다려주세요~^^'"
      ],
      "metadata": {
        "id": "HB0R7BBFs2Xu"
      },
      "execution_count": null,
      "outputs": []
    },
    {
      "cell_type": "code",
      "source": [
        "# Transformer 모델 사용시 label 제거\n",
        "# data = data.drop(['label'], axis=1)"
      ],
      "metadata": {
        "id": "r3sY0SiVojHa"
      },
      "execution_count": null,
      "outputs": []
    },
    {
      "cell_type": "code",
      "source": [
        "### KoGPT 모델 사용시 label 필요\n",
        "\n",
        "lst = list(data['label'])\n",
        "lst2 = [i.split('_')[0] if i.split('_')[0] != '제품' else i.split('_')[0] +'_'+ i.split('_')[2] for i in lst]\n",
        "\n",
        "data['label'] = lst2"
      ],
      "metadata": {
        "id": "f9MTCtoTjuoW"
      },
      "execution_count": null,
      "outputs": []
    },
    {
      "cell_type": "code",
      "source": [
        "data_frame = data"
      ],
      "metadata": {
        "id": "dpY6OBQcVN38"
      },
      "execution_count": null,
      "outputs": []
    },
    {
      "cell_type": "code",
      "source": [
        "#################################\n",
        "### label 항목 레이블, 원핫인코딩(의도분석에 이용)\n",
        "#################################\n",
        "\n",
        "from sklearn.preprocessing import LabelEncoder\n",
        "from sklearn.preprocessing import OneHotEncoder\n",
        "\n",
        "#레이블 인코딩\n",
        "lab_encoder = LabelEncoder()\n",
        "lab_encoder.fit(data_frame['label'].unique())\n",
        "lst = lab_encoder.classes_\n",
        "label_list = dict(zip(lst, range(len(lst))))\n",
        "\n",
        "print(label_list)    #원래값-숫자 목록"
      ],
      "metadata": {
        "id": "0HyKBy7_UyZg",
        "colab": {
          "base_uri": "https://localhost:8080/"
        },
        "outputId": "0055150a-b683-44af-d069-67eaf571e313"
      },
      "execution_count": null,
      "outputs": [
        {
          "output_type": "stream",
          "name": "stdout",
          "text": [
            "{'결제': 0, '제품_요청': 1, '제품_질문': 2, '제품_확인': 3, '주문': 4, '포장': 5, '행사': 6}\n"
          ]
        }
      ]
    },
    {
      "cell_type": "code",
      "source": [
        "#레이블 데이터 적용\n",
        "lab_in=lab_encoder.transform(data_frame['label'])   # label 값\n",
        "ori_in=lab_encoder.inverse_transform(lab_in)         # 원래 값\n",
        "data_frame['label'] = lab_in"
      ],
      "metadata": {
        "id": "ORQSXB-lhHhj"
      },
      "execution_count": null,
      "outputs": []
    },
    {
      "cell_type": "code",
      "source": [
        "DATA_PATH = '/content/drive/MyDrive/미니 프로젝트/data/'\n",
        "data.to_csv(DATA_PATH + 'cafe_qa_train.csv', index=False)"
      ],
      "metadata": {
        "id": "pps5Xt5aVwJa"
      },
      "execution_count": null,
      "outputs": []
    }
  ]
}